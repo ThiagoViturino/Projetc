{
 "cells": [
  {
   "cell_type": "markdown",
   "metadata": {},
   "source": [
    "# Data Scientist Nanodegree Program -- Introduction to Data Science\n",
    "\n",
    "## Project : Write a Data Science Blog Post\n",
    "Thiago Viturino Damasceno - From Brazil"
   ]
  },
  {
   "cell_type": "markdown",
   "metadata": {},
   "source": [
    "### 1) Pick a dataset. >> Data Source >> https://www.kaggle.com/atulanandjha/temperature-readings-iot-devices"
   ]
  },
  {
   "cell_type": "markdown",
   "metadata": {},
   "source": [
    "This dataset contains the temperature readings from IOT devices installed outside and inside of an anonymous Room (say - admin room). The device was in the alpha testing phase. So, It was uninstalled or shut off several times during the entire reading period ( 28-07-2018 to 08-12-2018). This random interval recordings and few mis-readings ( outliers) makes it more challanging to perform analysis on this data. Let's see, what you can present in the plate out of this messy data.\n"
   ]
  },
  {
   "cell_type": "markdown",
   "metadata": {},
   "source": [
    "### 2) Pose at least three questions related to business or real-world applications of how the data could be used."
   ]
  },
  {
   "cell_type": "markdown",
   "metadata": {},
   "source": [
    "    1 ) Did the equipment collect the data in the same amount each month?\n",
    "\n",
    "    2 ) What is the hottest period ?\n",
    "\n",
    "    3 ) What was the coldest day in the data collection period ?\n"
   ]
  },
  {
   "cell_type": "markdown",
   "metadata": {},
   "source": [
    "### 3) Create a Jupyter Notebook, using any associated packages you'd like, to:"
   ]
  },
  {
   "cell_type": "code",
   "execution_count": 357,
   "metadata": {},
   "outputs": [],
   "source": [
    "import pandas as pd\n",
    "import numpy as np\n",
    "import matplotlib.pyplot as plt\n",
    "import seaborn as sns\n",
    "%matplotlib inline\n",
    "\n",
    "# Importing libraries."
   ]
  },
  {
   "cell_type": "code",
   "execution_count": 382,
   "metadata": {},
   "outputs": [],
   "source": [
    "df = pd.read_csv( r'C:\\Users\\thiag\\Desktop\\Data Setes\\IOT\\IOT-temp.csv') # Importing the data into CSV."
   ]
  },
  {
   "cell_type": "code",
   "execution_count": 383,
   "metadata": {},
   "outputs": [],
   "source": [
    "df = df.sort_values(by='noted_date') # Ordering the dataFrame based on the Data column."
   ]
  },
  {
   "cell_type": "code",
   "execution_count": 384,
   "metadata": {},
   "outputs": [],
   "source": [
    "df['Index'] = df['id'].apply(lambda x: str(x)[20:26])\n",
    "df['Year'] = df['noted_date'].apply(lambda x: str(x)[6:10])\n",
    "df['Month'] = df['noted_date'].apply(lambda x: str(x)[3:5])\n",
    "df['Time'] = df['noted_date'].apply(lambda x: str(x)[12:13])\n",
    "df['Date'] = df['noted_date'].apply(lambda x: str(x)[0:10])\n",
    "\n",
    "# Dividing the 'noted_date' column into year and month."
   ]
  },
  {
   "cell_type": "code",
   "execution_count": 385,
   "metadata": {},
   "outputs": [],
   "source": [
    "df.drop('room_id/id', axis=1, inplace=True) # Taken out of unnecessary columns >> The Room column has only one Value;\n",
    "df.drop('id', axis=1, inplace=True) # Removed unnecessary columns >> The column id has been split;\n",
    "df.drop('noted_date', axis=1, inplace=True) #Removed unnecessary columns >> The column noted_date has been split"
   ]
  },
  {
   "cell_type": "code",
   "execution_count": 386,
   "metadata": {},
   "outputs": [],
   "source": [
    "df['Season'] = np.where(df['Month'] <= '03', 'Winter', \n",
    "                     np.where(df['Month'] <= '06', 'Spring',\n",
    "                              np.where(df['Month'] <= '10', 'Summer',\n",
    "                                       np.where(df['Month'] <= '12', 'Autumn',''))))\n",
    "\n",
    " # Adding a new seasons column.                                     "
   ]
  },
  {
   "cell_type": "code",
   "execution_count": 387,
   "metadata": {},
   "outputs": [],
   "source": [
    "df['Month'] = pd.to_numeric(df[\"Month\"]) # Converting types from the cell."
   ]
  },
  {
   "cell_type": "code",
   "execution_count": 388,
   "metadata": {},
   "outputs": [],
   "source": [
    "df.rename(columns={'out/in': 'Place', 'temp': 'Temp'}, inplace = True) # Renaming Columns"
   ]
  },
  {
   "cell_type": "code",
   "execution_count": 389,
   "metadata": {},
   "outputs": [],
   "source": [
    "def hourstiming(x):\n",
    "    if x in ['9', '8', '7', '6', '5']:\n",
    "        timing = 'Morning'\n",
    "    else:\n",
    "        timing = 'Night'\n",
    "    return timing\n",
    "\n",
    "# Creating a conditional function to define whether it is morning or night."
   ]
  },
  {
   "cell_type": "code",
   "execution_count": 390,
   "metadata": {},
   "outputs": [],
   "source": [
    "df['Day Part'] = df['Time'].apply(hourstiming)\n",
    "\n",
    "\n",
    "# Creating a new column based on the function 'hourstiming'"
   ]
  },
  {
   "cell_type": "code",
   "execution_count": 391,
   "metadata": {},
   "outputs": [],
   "source": [
    "df = df[['Index','Date', 'Year', 'Month', 'Time','Day Part', 'Season','Place','Temp']] # Rearranging Columns"
   ]
  },
  {
   "cell_type": "code",
   "execution_count": 392,
   "metadata": {},
   "outputs": [
    {
     "data": {
      "text/plain": [
       "Index       0\n",
       "Date        0\n",
       "Year        0\n",
       "Month       0\n",
       "Time        0\n",
       "Day Part    0\n",
       "Season      0\n",
       "Place       0\n",
       "Temp        0\n",
       "dtype: int64"
      ]
     },
     "execution_count": 392,
     "metadata": {},
     "output_type": "execute_result"
    }
   ],
   "source": [
    "np.sum(df.isnull()) # Confirming if the dataframe has null values."
   ]
  },
  {
   "cell_type": "code",
   "execution_count": 393,
   "metadata": {},
   "outputs": [
    {
     "data": {
      "text/html": [
       "<div>\n",
       "<style scoped>\n",
       "    .dataframe tbody tr th:only-of-type {\n",
       "        vertical-align: middle;\n",
       "    }\n",
       "\n",
       "    .dataframe tbody tr th {\n",
       "        vertical-align: top;\n",
       "    }\n",
       "\n",
       "    .dataframe thead th {\n",
       "        text-align: right;\n",
       "    }\n",
       "</style>\n",
       "<table border=\"1\" class=\"dataframe\">\n",
       "  <thead>\n",
       "    <tr style=\"text-align: right;\">\n",
       "      <th></th>\n",
       "      <th>Index</th>\n",
       "      <th>Date</th>\n",
       "      <th>Year</th>\n",
       "      <th>Month</th>\n",
       "      <th>Time</th>\n",
       "      <th>Day Part</th>\n",
       "      <th>Season</th>\n",
       "      <th>Place</th>\n",
       "      <th>Temp</th>\n",
       "    </tr>\n",
       "  </thead>\n",
       "  <tbody>\n",
       "    <tr>\n",
       "      <th>16218</th>\n",
       "      <td>126924</td>\n",
       "      <td>01-11-2018</td>\n",
       "      <td>2018</td>\n",
       "      <td>11</td>\n",
       "      <td>0</td>\n",
       "      <td>Night</td>\n",
       "      <td>Autumn</td>\n",
       "      <td>In</td>\n",
       "      <td>32</td>\n",
       "    </tr>\n",
       "    <tr>\n",
       "      <th>16217</th>\n",
       "      <td>146101</td>\n",
       "      <td>01-11-2018</td>\n",
       "      <td>2018</td>\n",
       "      <td>11</td>\n",
       "      <td>0</td>\n",
       "      <td>Night</td>\n",
       "      <td>Autumn</td>\n",
       "      <td>Out</td>\n",
       "      <td>40</td>\n",
       "    </tr>\n",
       "    <tr>\n",
       "      <th>16216</th>\n",
       "      <td>111262</td>\n",
       "      <td>01-11-2018</td>\n",
       "      <td>2018</td>\n",
       "      <td>11</td>\n",
       "      <td>0</td>\n",
       "      <td>Night</td>\n",
       "      <td>Autumn</td>\n",
       "      <td>Out</td>\n",
       "      <td>39</td>\n",
       "    </tr>\n",
       "    <tr>\n",
       "      <th>16215</th>\n",
       "      <td>147650</td>\n",
       "      <td>01-11-2018</td>\n",
       "      <td>2018</td>\n",
       "      <td>11</td>\n",
       "      <td>0</td>\n",
       "      <td>Night</td>\n",
       "      <td>Autumn</td>\n",
       "      <td>Out</td>\n",
       "      <td>40</td>\n",
       "    </tr>\n",
       "    <tr>\n",
       "      <th>16214</th>\n",
       "      <td>139505</td>\n",
       "      <td>01-11-2018</td>\n",
       "      <td>2018</td>\n",
       "      <td>11</td>\n",
       "      <td>0</td>\n",
       "      <td>Night</td>\n",
       "      <td>Autumn</td>\n",
       "      <td>Out</td>\n",
       "      <td>40</td>\n",
       "    </tr>\n",
       "    <tr>\n",
       "      <th>16213</th>\n",
       "      <td>127981</td>\n",
       "      <td>01-11-2018</td>\n",
       "      <td>2018</td>\n",
       "      <td>11</td>\n",
       "      <td>0</td>\n",
       "      <td>Night</td>\n",
       "      <td>Autumn</td>\n",
       "      <td>Out</td>\n",
       "      <td>40</td>\n",
       "    </tr>\n",
       "    <tr>\n",
       "      <th>16212</th>\n",
       "      <td>139627</td>\n",
       "      <td>01-11-2018</td>\n",
       "      <td>2018</td>\n",
       "      <td>11</td>\n",
       "      <td>0</td>\n",
       "      <td>Night</td>\n",
       "      <td>Autumn</td>\n",
       "      <td>Out</td>\n",
       "      <td>41</td>\n",
       "    </tr>\n",
       "    <tr>\n",
       "      <th>16211</th>\n",
       "      <td>129490</td>\n",
       "      <td>01-11-2018</td>\n",
       "      <td>2018</td>\n",
       "      <td>11</td>\n",
       "      <td>0</td>\n",
       "      <td>Night</td>\n",
       "      <td>Autumn</td>\n",
       "      <td>Out</td>\n",
       "      <td>40</td>\n",
       "    </tr>\n",
       "    <tr>\n",
       "      <th>16210</th>\n",
       "      <td>132487</td>\n",
       "      <td>01-11-2018</td>\n",
       "      <td>2018</td>\n",
       "      <td>11</td>\n",
       "      <td>0</td>\n",
       "      <td>Night</td>\n",
       "      <td>Autumn</td>\n",
       "      <td>Out</td>\n",
       "      <td>39</td>\n",
       "    </tr>\n",
       "    <tr>\n",
       "      <th>16209</th>\n",
       "      <td>141401</td>\n",
       "      <td>01-11-2018</td>\n",
       "      <td>2018</td>\n",
       "      <td>11</td>\n",
       "      <td>0</td>\n",
       "      <td>Night</td>\n",
       "      <td>Autumn</td>\n",
       "      <td>Out</td>\n",
       "      <td>41</td>\n",
       "    </tr>\n",
       "  </tbody>\n",
       "</table>\n",
       "</div>"
      ],
      "text/plain": [
       "        Index        Date  Year  Month Time Day Part  Season Place  Temp\n",
       "16218  126924  01-11-2018  2018     11    0    Night  Autumn    In    32\n",
       "16217  146101  01-11-2018  2018     11    0    Night  Autumn   Out    40\n",
       "16216  111262  01-11-2018  2018     11    0    Night  Autumn   Out    39\n",
       "16215  147650  01-11-2018  2018     11    0    Night  Autumn   Out    40\n",
       "16214  139505  01-11-2018  2018     11    0    Night  Autumn   Out    40\n",
       "16213  127981  01-11-2018  2018     11    0    Night  Autumn   Out    40\n",
       "16212  139627  01-11-2018  2018     11    0    Night  Autumn   Out    41\n",
       "16211  129490  01-11-2018  2018     11    0    Night  Autumn   Out    40\n",
       "16210  132487  01-11-2018  2018     11    0    Night  Autumn   Out    39\n",
       "16209  141401  01-11-2018  2018     11    0    Night  Autumn   Out    41"
      ]
     },
     "execution_count": 393,
     "metadata": {},
     "output_type": "execute_result"
    }
   ],
   "source": [
    "df.head(10) # Data Frame is Ready for Analysis"
   ]
  },
  {
   "cell_type": "markdown",
   "metadata": {},
   "source": [
    "### Analyzing and Answering questions"
   ]
  },
  {
   "cell_type": "markdown",
   "metadata": {},
   "source": [
    "#### 1 ) Did the equipment collect the data in the same amount each month?"
   ]
  },
  {
   "cell_type": "code",
   "execution_count": 394,
   "metadata": {},
   "outputs": [
    {
     "data": {
      "text/plain": [
       "Month\n",
       "7       154\n",
       "8      2241\n",
       "9     42740\n",
       "10    36252\n",
       "11     8607\n",
       "12     7612\n",
       "Name: Temp, dtype: int64"
      ]
     },
     "execution_count": 394,
     "metadata": {},
     "output_type": "execute_result"
    }
   ],
   "source": [
    "df.groupby(\"Month\").count()['Temp'] # Counting the samples collected per month."
   ]
  },
  {
   "cell_type": "code",
   "execution_count": 395,
   "metadata": {},
   "outputs": [
    {
     "data": {
      "image/png": "[encoded data removed]",
      "text/plain": [
       "<Figure size 432x288 with 1 Axes>"
      ]
     },
     "metadata": {
      "needs_background": "light"
     },
     "output_type": "display_data"
    }
   ],
   "source": [
    "plt.hist(df['Month']); # Plotting a Histogram to demonstrate more clearly the collection made by the temperature sensor."
   ]
  },
  {
   "cell_type": "markdown",
   "metadata": {},
   "source": [
    " #### Conclusion One >> \n",
    " \n",
    "As demonstrated, the collection was carried out in a moderate way in the first two months, fearing a significant increase in the third and fourth months, following a drastic reduction in the last two months.\n",
    "\n",
    "======================================================================================================"
   ]
  },
  {
   "cell_type": "markdown",
   "metadata": {},
   "source": [
    "#### 2 ) What is the hottest period ?"
   ]
  },
  {
   "cell_type": "code",
   "execution_count": 396,
   "metadata": {},
   "outputs": [
    {
     "data": {
      "image/png": "[encoded data removed]",
      "text/plain": [
       "<Figure size 432x288 with 1 Axes>"
      ]
     },
     "metadata": {
      "needs_background": "light"
     },
     "output_type": "display_data"
    }
   ],
   "source": [
    "sns.lineplot(df['Month'],df['Temp'],hue=df['Season']); \n",
    "plt.title('Temperature per month'); \n",
    "\n",
    "# Plot to show how the temperature was for each month"
   ]
  },
  {
   "cell_type": "code",
   "execution_count": 397,
   "metadata": {},
   "outputs": [
    {
     "data": {
      "text/plain": [
       "Month\n",
       "7     31.571429\n",
       "8     30.531013\n",
       "9     31.056060\n",
       "10    39.265310\n",
       "11    38.956663\n",
       "12    34.433789\n",
       "Name: Temp, dtype: float64"
      ]
     },
     "execution_count": 397,
     "metadata": {},
     "output_type": "execute_result"
    }
   ],
   "source": [
    "df.groupby(\"Month\").mean()['Temp'] # Average monthly temperature"
   ]
  },
  {
   "cell_type": "code",
   "execution_count": 398,
   "metadata": {},
   "outputs": [
    {
     "data": {
      "text/plain": [
       "Day Part\n",
       "Morning    35.308546\n",
       "Night      34.861641\n",
       "Name: Temp, dtype: float64"
      ]
     },
     "execution_count": 398,
     "metadata": {},
     "output_type": "execute_result"
    }
   ],
   "source": [
    "df.groupby(\"Day Part\").mean()['Temp'] # Average temperature per day."
   ]
  },
  {
   "cell_type": "code",
   "execution_count": 399,
   "metadata": {},
   "outputs": [
    {
     "data": {
      "text/plain": [
       "Day Part\n",
       "Morning    51\n",
       "Night      50\n",
       "Name: Temp, dtype: int64"
      ]
     },
     "execution_count": 399,
     "metadata": {},
     "output_type": "execute_result"
    }
   ],
   "source": [
    "df.groupby(\"Day Part\").max()['Temp'] # Maximum temperature reached per day"
   ]
  },
  {
   "cell_type": "markdown",
   "metadata": {},
   "source": [
    " #### Conclusion Two >> \n",
    " \n",
    "The hottest period was in months 10 and 11 (summer). \n",
    "The temperature rises more in the summer outside, reaching 51 ° in the month 10. \n",
    "\n",
    "======================================================================================================\n"
   ]
  },
  {
   "cell_type": "markdown",
   "metadata": {},
   "source": [
    "#### 3 ) What was the coldest day in the data collection period ?"
   ]
  },
  {
   "cell_type": "code",
   "execution_count": 400,
   "metadata": {},
   "outputs": [
    {
     "data": {
      "text/plain": [
       "Index           100004\n",
       "Date        01-11-2018\n",
       "Year              2018\n",
       "Month                7\n",
       "Time                 0\n",
       "Day Part       Morning\n",
       "Season          Autumn\n",
       "Place               In\n",
       "Temp                21\n",
       "dtype: object"
      ]
     },
     "execution_count": 400,
     "metadata": {},
     "output_type": "execute_result"
    }
   ],
   "source": [
    "df.min() # Lowest temperature recorded in the collection period, to confirm what was the lowest temperature recorded."
   ]
  },
  {
   "cell_type": "code",
   "execution_count": 401,
   "metadata": {},
   "outputs": [
    {
     "data": {
      "text/html": [
       "<div>\n",
       "<style scoped>\n",
       "    .dataframe tbody tr th:only-of-type {\n",
       "        vertical-align: middle;\n",
       "    }\n",
       "\n",
       "    .dataframe tbody tr th {\n",
       "        vertical-align: top;\n",
       "    }\n",
       "\n",
       "    .dataframe thead th {\n",
       "        text-align: right;\n",
       "    }\n",
       "</style>\n",
       "<table border=\"1\" class=\"dataframe\">\n",
       "  <thead>\n",
       "    <tr style=\"text-align: right;\">\n",
       "      <th></th>\n",
       "      <th>Index</th>\n",
       "      <th>Date</th>\n",
       "      <th>Year</th>\n",
       "      <th>Month</th>\n",
       "      <th>Time</th>\n",
       "      <th>Day Part</th>\n",
       "      <th>Season</th>\n",
       "      <th>Place</th>\n",
       "      <th>Temp</th>\n",
       "    </tr>\n",
       "  </thead>\n",
       "  <tbody>\n",
       "    <tr>\n",
       "      <th>5760</th>\n",
       "      <td>177074</td>\n",
       "      <td>03-12-2018</td>\n",
       "      <td>2018</td>\n",
       "      <td>12</td>\n",
       "      <td>1</td>\n",
       "      <td>Night</td>\n",
       "      <td>Autumn</td>\n",
       "      <td>In</td>\n",
       "      <td>21</td>\n",
       "    </tr>\n",
       "    <tr>\n",
       "      <th>5759</th>\n",
       "      <td>177075</td>\n",
       "      <td>03-12-2018</td>\n",
       "      <td>2018</td>\n",
       "      <td>12</td>\n",
       "      <td>1</td>\n",
       "      <td>Night</td>\n",
       "      <td>Autumn</td>\n",
       "      <td>In</td>\n",
       "      <td>21</td>\n",
       "    </tr>\n",
       "  </tbody>\n",
       "</table>\n",
       "</div>"
      ],
      "text/plain": [
       "       Index        Date  Year  Month Time Day Part  Season Place  Temp\n",
       "5760  177074  03-12-2018  2018     12    1    Night  Autumn    In    21\n",
       "5759  177075  03-12-2018  2018     12    1    Night  Autumn    In    21"
      ]
     },
     "execution_count": 401,
     "metadata": {},
     "output_type": "execute_result"
    }
   ],
   "source": [
    "df.query('Temp==\"21\"') # Filtering to find the collection lines with the lowest temperature recorded."
   ]
  },
  {
   "cell_type": "markdown",
   "metadata": {},
   "source": [
    " #### Conclusion Tree >> \n",
    " \n",
    "\n",
    "The lowest temperature recorded was in the early hours of December, 21st for twice.\n",
    "\n",
    "======================================================================================================\n",
    "\n"
   ]
  },
  {
   "cell_type": "markdown",
   "metadata": {},
   "source": [
    "#### 4 ) Extra Clarifications"
   ]
  },
  {
   "cell_type": "code",
   "execution_count": 402,
   "metadata": {},
   "outputs": [],
   "source": [
    "df_ml = df # Changing some columns to be able to perform the corelation"
   ]
  },
  {
   "cell_type": "code",
   "execution_count": 403,
   "metadata": {},
   "outputs": [],
   "source": [
    "df_ml['Day Part'] = df_ml['Day Part'].replace('Night', 0)\n",
    "df_ml['Day Part'] = df_ml['Day Part'].replace('Morning', 1)\n",
    "df_ml['Season'] = df_ml['Season'].replace('Autumn', 0)\n",
    "df_ml['Season'] = df_ml['Season'].replace('Summer', 1)\n",
    "df_ml['Place'] = df_ml['Place'].replace('In', 0)\n",
    "df_ml['Place'] = df_ml['Place'].replace('Out', 1)"
   ]
  },
  {
   "cell_type": "code",
   "execution_count": 404,
   "metadata": {},
   "outputs": [
    {
     "data": {
      "text/html": [
       "<div>\n",
       "<style scoped>\n",
       "    .dataframe tbody tr th:only-of-type {\n",
       "        vertical-align: middle;\n",
       "    }\n",
       "\n",
       "    .dataframe tbody tr th {\n",
       "        vertical-align: top;\n",
       "    }\n",
       "\n",
       "    .dataframe thead th {\n",
       "        text-align: right;\n",
       "    }\n",
       "</style>\n",
       "<table border=\"1\" class=\"dataframe\">\n",
       "  <thead>\n",
       "    <tr style=\"text-align: right;\">\n",
       "      <th></th>\n",
       "      <th>Index</th>\n",
       "      <th>Date</th>\n",
       "      <th>Year</th>\n",
       "      <th>Month</th>\n",
       "      <th>Time</th>\n",
       "      <th>Day Part</th>\n",
       "      <th>Season</th>\n",
       "      <th>Place</th>\n",
       "      <th>Temp</th>\n",
       "    </tr>\n",
       "  </thead>\n",
       "  <tbody>\n",
       "    <tr>\n",
       "      <th>16218</th>\n",
       "      <td>126924</td>\n",
       "      <td>01-11-2018</td>\n",
       "      <td>2018</td>\n",
       "      <td>11</td>\n",
       "      <td>0</td>\n",
       "      <td>0</td>\n",
       "      <td>0</td>\n",
       "      <td>0</td>\n",
       "      <td>32</td>\n",
       "    </tr>\n",
       "    <tr>\n",
       "      <th>16217</th>\n",
       "      <td>146101</td>\n",
       "      <td>01-11-2018</td>\n",
       "      <td>2018</td>\n",
       "      <td>11</td>\n",
       "      <td>0</td>\n",
       "      <td>0</td>\n",
       "      <td>0</td>\n",
       "      <td>1</td>\n",
       "      <td>40</td>\n",
       "    </tr>\n",
       "    <tr>\n",
       "      <th>16216</th>\n",
       "      <td>111262</td>\n",
       "      <td>01-11-2018</td>\n",
       "      <td>2018</td>\n",
       "      <td>11</td>\n",
       "      <td>0</td>\n",
       "      <td>0</td>\n",
       "      <td>0</td>\n",
       "      <td>1</td>\n",
       "      <td>39</td>\n",
       "    </tr>\n",
       "    <tr>\n",
       "      <th>16215</th>\n",
       "      <td>147650</td>\n",
       "      <td>01-11-2018</td>\n",
       "      <td>2018</td>\n",
       "      <td>11</td>\n",
       "      <td>0</td>\n",
       "      <td>0</td>\n",
       "      <td>0</td>\n",
       "      <td>1</td>\n",
       "      <td>40</td>\n",
       "    </tr>\n",
       "    <tr>\n",
       "      <th>16214</th>\n",
       "      <td>139505</td>\n",
       "      <td>01-11-2018</td>\n",
       "      <td>2018</td>\n",
       "      <td>11</td>\n",
       "      <td>0</td>\n",
       "      <td>0</td>\n",
       "      <td>0</td>\n",
       "      <td>1</td>\n",
       "      <td>40</td>\n",
       "    </tr>\n",
       "  </tbody>\n",
       "</table>\n",
       "</div>"
      ],
      "text/plain": [
       "        Index        Date  Year  Month Time  Day Part  Season  Place  Temp\n",
       "16218  126924  01-11-2018  2018     11    0         0       0      0    32\n",
       "16217  146101  01-11-2018  2018     11    0         0       0      1    40\n",
       "16216  111262  01-11-2018  2018     11    0         0       0      1    39\n",
       "16215  147650  01-11-2018  2018     11    0         0       0      1    40\n",
       "16214  139505  01-11-2018  2018     11    0         0       0      1    40"
      ]
     },
     "execution_count": 404,
     "metadata": {},
     "output_type": "execute_result"
    }
   ],
   "source": [
    "df_ml.head() "
   ]
  },
  {
   "cell_type": "code",
   "execution_count": 405,
   "metadata": {},
   "outputs": [
    {
     "data": {
      "image/png": "[encoded data removed]",
      "text/plain": [
       "<Figure size 432x288 with 2 Axes>"
      ]
     },
     "metadata": {
      "needs_background": "light"
     },
     "output_type": "display_data"
    }
   ],
   "source": [
    "sns.heatmap(df_ml.corr(), annot=True, fmt=\".2f\");"
   ]
  },
  {
   "cell_type": "markdown",
   "metadata": {},
   "source": [
    "Conclusion Four >>\n",
    "\n",
    "As you can see, the temperature has a strong correlation compared to the month it is 0.41 and where the thermomentre is located 0,12.\n",
    "\n",
    "======================================================================================================"
   ]
  },
  {
   "cell_type": "markdown",
   "metadata": {},
   "source": [
    "Thank you !!"
   ]
  }
 ],
 "metadata": {
  "kernelspec": {
   "display_name": "Python 3",
   "language": "python",
   "name": "python3"
  },
  "language_info": {
   "codemirror_mode": {
    "name": "ipython",
    "version": 3
   },
   "file_extension": ".py",
   "mimetype": "text/x-python",
   "name": "python",
   "nbconvert_exporter": "python",
   "pygments_lexer": "ipython3",
   "version": "3.7.6"
  }
 },
 "nbformat": 4,
 "nbformat_minor": 4
}
